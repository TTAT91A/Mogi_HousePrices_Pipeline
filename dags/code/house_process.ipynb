{
 "cells": [
  {
   "cell_type": "code",
   "execution_count": 1,
   "metadata": {},
   "outputs": [],
   "source": [
    "import pandas as pd\n",
    "import numpy as np\n",
    "from datetime import datetime,timedelta"
   ]
  },
  {
   "cell_type": "code",
   "execution_count": 2,
   "metadata": {},
   "outputs": [
    {
     "name": "stdout",
     "output_type": "stream",
     "text": [
      "2024-04-17\n",
      "2024-05-02\n"
     ]
    }
   ],
   "source": [
    "st_day = datetime.strptime('2024-04-17', \"%Y-%m-%d\").date()\n",
    "end_day = datetime.strptime(\"2024-05-02\", \"%Y-%m-%d\").date()\n",
    "print(st_day)\n",
    "print(end_day)"
   ]
  },
  {
   "cell_type": "code",
   "execution_count": 3,
   "metadata": {},
   "outputs": [],
   "source": [
    "def vietnamese_numerical_to_numeric(vietnamese_str):\n",
    "    numerical_dict = {\n",
    "        'tỷ': 10**9,\n",
    "        'triệu': 10**6,\n",
    "        'nghìn': 10**3,\n",
    "        'đồng': 1,\n",
    "        'đ': 1\n",
    "    }\n",
    "\n",
    "    value = 0\n",
    "    current_value = 0\n",
    "    for word in vietnamese_str.split():\n",
    "        if word in numerical_dict:\n",
    "            current_value *= numerical_dict[word]\n",
    "            value += current_value\n",
    "            current_value = 0\n",
    "        else:\n",
    "            current_value += float(word.replace('tỷ', '').replace('triệu', '').replace('nghìn', ''))\n",
    "\n",
    "    return value\n"
   ]
  },
  {
   "cell_type": "code",
   "execution_count": 4,
   "metadata": {},
   "outputs": [],
   "source": [
    "import re\n",
    "df = pd.DataFrame()\n",
    "while st_day <= end_day:\n",
    "    data_per_day = pd.read_csv(f\"../data1/house_today({st_day}).csv\")\n",
    "    data_per_day = data_per_day[['price','link']]\n",
    "    data_per_day['link'] = data_per_day['link'].apply(lambda x: re.search(r\"id([0-9]*)\",x).group(1))\n",
    "    data_per_day['price'] = data_per_day['price'].apply(lambda x: vietnamese_numerical_to_numeric(x)/1000000000)\n",
    "\n",
    "    df = pd.concat([df,data_per_day])\n",
    "    st_day += timedelta(days=1)"
   ]
  },
  {
   "cell_type": "code",
   "execution_count": 5,
   "metadata": {},
   "outputs": [],
   "source": [
    "df.drop_duplicates(subset=['link'],inplace=True)\n",
    "df.rename(columns={'price':'price(billionVND)', 'link':'id'},inplace=True)\n",
    "# Replace empty strings ('') with NaN\n",
    "df['id'] = pd.to_numeric(df['id'], errors='coerce')\n",
    "\n",
    "# Drop rows with NaN values in the 'id' column\n",
    "df.dropna(subset=['id'], inplace=True)\n",
    "\n",
    "# Convert the 'id' column to integer type\n",
    "df['id'] = df['id'].astype(int)"
   ]
  },
  {
   "cell_type": "code",
   "execution_count": 7,
   "metadata": {},
   "outputs": [
    {
     "data": {
      "text/plain": [
       "(18213, 2)"
      ]
     },
     "execution_count": 7,
     "metadata": {},
     "output_type": "execute_result"
    }
   ],
   "source": [
    "df.shape"
   ]
  },
  {
   "cell_type": "code",
   "execution_count": 6,
   "metadata": {},
   "outputs": [],
   "source": [
    "df.to_csv(\"prices.csv\",index=False)"
   ]
  }
 ],
 "metadata": {
  "kernelspec": {
   "display_name": "Python 3",
   "language": "python",
   "name": "python3"
  },
  "language_info": {
   "codemirror_mode": {
    "name": "ipython",
    "version": 3
   },
   "file_extension": ".py",
   "mimetype": "text/x-python",
   "name": "python",
   "nbconvert_exporter": "python",
   "pygments_lexer": "ipython3",
   "version": "3.11.9"
  }
 },
 "nbformat": 4,
 "nbformat_minor": 2
}
