{
 "cells": [
  {
   "cell_type": "code",
   "execution_count": 1,
   "metadata": {},
   "outputs": [],
   "source": [
    "import pandas as pd\n",
    "import re"
   ]
  },
  {
   "cell_type": "code",
   "execution_count": 2,
   "metadata": {},
   "outputs": [],
   "source": [
    "def vietnamese_numerical_to_numeric(vietnamese_str):\n",
    "    numerical_dict = {\n",
    "        'tỷ': 10**9,\n",
    "        'triệu': 10**6,\n",
    "        'nghìn': 10**3,\n",
    "        'đồng': 1,\n",
    "        'đ': 1\n",
    "    }\n",
    "\n",
    "    value = 0\n",
    "    current_value = 0\n",
    "    for word in vietnamese_str.split():\n",
    "        if word in numerical_dict:\n",
    "            current_value *= numerical_dict[word]\n",
    "            value += current_value\n",
    "            current_value = 0\n",
    "        else:\n",
    "            current_value += float(word.replace('tỷ', '').replace('triệu', '').replace('nghìn', ''))\n",
    "\n",
    "    return value\n"
   ]
  },
  {
   "cell_type": "code",
   "execution_count": 3,
   "metadata": {},
   "outputs": [],
   "source": [
    "df_house = pd.read_csv('../data1/house_today(2024-04-24).csv')\n",
    "df_house_info = pd.read_csv('../data1/house_info_today(2024-04-24).csv')"
   ]
  },
  {
   "cell_type": "code",
   "execution_count": 4,
   "metadata": {},
   "outputs": [
    {
     "data": {
      "text/html": [
       "<div>\n",
       "<style scoped>\n",
       "    .dataframe tbody tr th:only-of-type {\n",
       "        vertical-align: middle;\n",
       "    }\n",
       "\n",
       "    .dataframe tbody tr th {\n",
       "        vertical-align: top;\n",
       "    }\n",
       "\n",
       "    .dataframe thead th {\n",
       "        text-align: right;\n",
       "    }\n",
       "</style>\n",
       "<table border=\"1\" class=\"dataframe\">\n",
       "  <thead>\n",
       "    <tr style=\"text-align: right;\">\n",
       "      <th></th>\n",
       "      <th>name</th>\n",
       "      <th>district</th>\n",
       "      <th>price</th>\n",
       "      <th>bedroom</th>\n",
       "      <th>wc</th>\n",
       "      <th>acreage</th>\n",
       "      <th>link</th>\n",
       "      <th>date</th>\n",
       "    </tr>\n",
       "  </thead>\n",
       "  <tbody>\n",
       "    <tr>\n",
       "      <th>0</th>\n",
       "      <td>Bán Nhà Mới Đẹp,Hẻm Ba Gác sát HXH, Lê Quang Đ...</td>\n",
       "      <td>Quận Bình Thạnh, TPHCM</td>\n",
       "      <td>6 tỷ 950 triệu</td>\n",
       "      <td>8 PN</td>\n",
       "      <td>9 WC</td>\n",
       "      <td>100 m2</td>\n",
       "      <td>https://mogi.vn/quan-binh-thanh/mua-nha-hem-ng...</td>\n",
       "      <td>2024-04-24</td>\n",
       "    </tr>\n",
       "    <tr>\n",
       "      <th>1</th>\n",
       "      <td>Bán nhà Hẻm Ba Gác Thông Lê Quang Định P.7 Q.B...</td>\n",
       "      <td>Quận Bình Thạnh, TPHCM</td>\n",
       "      <td>5 tỷ</td>\n",
       "      <td>4 PN</td>\n",
       "      <td>4 WC</td>\n",
       "      <td>63 m2</td>\n",
       "      <td>https://mogi.vn/quan-binh-thanh/mua-nha-hem-ng...</td>\n",
       "      <td>2024-04-24</td>\n",
       "    </tr>\n",
       "    <tr>\n",
       "      <th>2</th>\n",
       "      <td>Bán Nhà Mới Đẹp , HXH đỗ cửa Thống Nhất P.11 G...</td>\n",
       "      <td>Quận Gò Vấp, TPHCM</td>\n",
       "      <td>6 tỷ 500 triệu</td>\n",
       "      <td>5 PN</td>\n",
       "      <td>6 WC</td>\n",
       "      <td>33 m2</td>\n",
       "      <td>https://mogi.vn/quan-go-vap/mua-nha-hem-ngo/ba...</td>\n",
       "      <td>2024-04-24</td>\n",
       "    </tr>\n",
       "    <tr>\n",
       "      <th>3</th>\n",
       "      <td>Bán nhà mặt tiền đường Số 66 Thảo Điền 4x25m v...</td>\n",
       "      <td>Quận 2 (TP. Thủ Đức), TPHCM</td>\n",
       "      <td>13 tỷ</td>\n",
       "      <td>3 PN</td>\n",
       "      <td>5 WC</td>\n",
       "      <td>45 m2</td>\n",
       "      <td>https://mogi.vn/quan-2/mua-nha-mat-tien-pho/ba...</td>\n",
       "      <td>2024-04-24</td>\n",
       "    </tr>\n",
       "    <tr>\n",
       "      <th>4</th>\n",
       "      <td>Bán toà nhà VP Gold Star Lý Thường Kiệt. hầm 9...</td>\n",
       "      <td>Quận 10, TPHCM</td>\n",
       "      <td>75 tỷ</td>\n",
       "      <td>8 PN</td>\n",
       "      <td>9 WC</td>\n",
       "      <td>120 m2</td>\n",
       "      <td>https://mogi.vn/quan-10/mua-nha-mat-tien-pho/b...</td>\n",
       "      <td>2024-04-24</td>\n",
       "    </tr>\n",
       "  </tbody>\n",
       "</table>\n",
       "</div>"
      ],
      "text/plain": [
       "                                                name  \\\n",
       "0  Bán Nhà Mới Đẹp,Hẻm Ba Gác sát HXH, Lê Quang Đ...   \n",
       "1  Bán nhà Hẻm Ba Gác Thông Lê Quang Định P.7 Q.B...   \n",
       "2  Bán Nhà Mới Đẹp , HXH đỗ cửa Thống Nhất P.11 G...   \n",
       "3  Bán nhà mặt tiền đường Số 66 Thảo Điền 4x25m v...   \n",
       "4  Bán toà nhà VP Gold Star Lý Thường Kiệt. hầm 9...   \n",
       "\n",
       "                      district           price bedroom    wc acreage  \\\n",
       "0       Quận Bình Thạnh, TPHCM  6 tỷ 950 triệu    8 PN  9 WC  100 m2   \n",
       "1       Quận Bình Thạnh, TPHCM            5 tỷ    4 PN  4 WC   63 m2   \n",
       "2           Quận Gò Vấp, TPHCM  6 tỷ 500 triệu    5 PN  6 WC   33 m2   \n",
       "3  Quận 2 (TP. Thủ Đức), TPHCM           13 tỷ    3 PN  5 WC   45 m2   \n",
       "4               Quận 10, TPHCM           75 tỷ    8 PN  9 WC  120 m2   \n",
       "\n",
       "                                                link        date  \n",
       "0  https://mogi.vn/quan-binh-thanh/mua-nha-hem-ng...  2024-04-24  \n",
       "1  https://mogi.vn/quan-binh-thanh/mua-nha-hem-ng...  2024-04-24  \n",
       "2  https://mogi.vn/quan-go-vap/mua-nha-hem-ngo/ba...  2024-04-24  \n",
       "3  https://mogi.vn/quan-2/mua-nha-mat-tien-pho/ba...  2024-04-24  \n",
       "4  https://mogi.vn/quan-10/mua-nha-mat-tien-pho/b...  2024-04-24  "
      ]
     },
     "execution_count": 4,
     "metadata": {},
     "output_type": "execute_result"
    }
   ],
   "source": [
    "df_house.head()"
   ]
  },
  {
   "cell_type": "code",
   "execution_count": 5,
   "metadata": {},
   "outputs": [
    {
     "data": {
      "text/plain": [
       "(5855, 8)"
      ]
     },
     "execution_count": 5,
     "metadata": {},
     "output_type": "execute_result"
    }
   ],
   "source": [
    "df_house.shape"
   ]
  },
  {
   "cell_type": "code",
   "execution_count": 6,
   "metadata": {},
   "outputs": [],
   "source": [
    "def preprocess_house(df_house):\n",
    "    df_house = df_house[['link','price']]\n",
    "    df_house['link'] = df_house['link'].apply(lambda x: re.search(r\"\\-id([0-9]*)\",x).group(1))\n",
    "    df_house.rename(columns={'price':'price(billionVND)', 'link':'id'},inplace=True)\n",
    "    df_house['id'] = pd.to_numeric(df_house['id'])\n",
    "\n",
    "    # Drop rows with NaN values in the 'id' column\n",
    "    df_house.dropna(subset=['id'], inplace=True)\n",
    "\n",
    "    df_house['id'] = df_house['id'].astype(int)\n",
    "\n",
    "    df_house['price(billionVND)'] = df_house['price(billionVND)'].apply(lambda x: vietnamese_numerical_to_numeric(x)/1000000000)\n",
    "    df_house.drop_duplicates(subset=['id'], inplace=True)\n",
    "    return df_house"
   ]
  },
  {
   "cell_type": "code",
   "execution_count": 7,
   "metadata": {},
   "outputs": [
    {
     "name": "stderr",
     "output_type": "stream",
     "text": [
      "C:\\Users\\anhtu\\AppData\\Local\\Temp\\ipykernel_18636\\1686690951.py:3: SettingWithCopyWarning: \n",
      "A value is trying to be set on a copy of a slice from a DataFrame.\n",
      "Try using .loc[row_indexer,col_indexer] = value instead\n",
      "\n",
      "See the caveats in the documentation: https://pandas.pydata.org/pandas-docs/stable/user_guide/indexing.html#returning-a-view-versus-a-copy\n",
      "  df_house['link'] = df_house['link'].apply(lambda x: re.search(r\"\\-id([0-9]*)\",x).group(1))\n",
      "C:\\Users\\anhtu\\AppData\\Local\\Temp\\ipykernel_18636\\1686690951.py:4: SettingWithCopyWarning: \n",
      "A value is trying to be set on a copy of a slice from a DataFrame\n",
      "\n",
      "See the caveats in the documentation: https://pandas.pydata.org/pandas-docs/stable/user_guide/indexing.html#returning-a-view-versus-a-copy\n",
      "  df_house.rename(columns={'price':'price(billionVND)', 'link':'id'},inplace=True)\n",
      "C:\\Users\\anhtu\\AppData\\Local\\Temp\\ipykernel_18636\\1686690951.py:5: SettingWithCopyWarning: \n",
      "A value is trying to be set on a copy of a slice from a DataFrame.\n",
      "Try using .loc[row_indexer,col_indexer] = value instead\n",
      "\n",
      "See the caveats in the documentation: https://pandas.pydata.org/pandas-docs/stable/user_guide/indexing.html#returning-a-view-versus-a-copy\n",
      "  df_house['id'] = pd.to_numeric(df_house['id'])\n",
      "C:\\Users\\anhtu\\AppData\\Local\\Temp\\ipykernel_18636\\1686690951.py:8: SettingWithCopyWarning: \n",
      "A value is trying to be set on a copy of a slice from a DataFrame\n",
      "\n",
      "See the caveats in the documentation: https://pandas.pydata.org/pandas-docs/stable/user_guide/indexing.html#returning-a-view-versus-a-copy\n",
      "  df_house.dropna(subset=['id'], inplace=True)\n",
      "C:\\Users\\anhtu\\AppData\\Local\\Temp\\ipykernel_18636\\1686690951.py:10: SettingWithCopyWarning: \n",
      "A value is trying to be set on a copy of a slice from a DataFrame.\n",
      "Try using .loc[row_indexer,col_indexer] = value instead\n",
      "\n",
      "See the caveats in the documentation: https://pandas.pydata.org/pandas-docs/stable/user_guide/indexing.html#returning-a-view-versus-a-copy\n",
      "  df_house['id'] = df_house['id'].astype(int)\n",
      "C:\\Users\\anhtu\\AppData\\Local\\Temp\\ipykernel_18636\\1686690951.py:12: SettingWithCopyWarning: \n",
      "A value is trying to be set on a copy of a slice from a DataFrame.\n",
      "Try using .loc[row_indexer,col_indexer] = value instead\n",
      "\n",
      "See the caveats in the documentation: https://pandas.pydata.org/pandas-docs/stable/user_guide/indexing.html#returning-a-view-versus-a-copy\n",
      "  df_house['price(billionVND)'] = df_house['price(billionVND)'].apply(lambda x: vietnamese_numerical_to_numeric(x)/1000000000)\n",
      "C:\\Users\\anhtu\\AppData\\Local\\Temp\\ipykernel_18636\\1686690951.py:13: SettingWithCopyWarning: \n",
      "A value is trying to be set on a copy of a slice from a DataFrame\n",
      "\n",
      "See the caveats in the documentation: https://pandas.pydata.org/pandas-docs/stable/user_guide/indexing.html#returning-a-view-versus-a-copy\n",
      "  df_house.drop_duplicates(subset=['id'], inplace=True)\n"
     ]
    }
   ],
   "source": [
    "df_house = preprocess_house(df_house) "
   ]
  },
  {
   "cell_type": "code",
   "execution_count": 8,
   "metadata": {},
   "outputs": [
    {
     "data": {
      "text/plain": [
       "(5769, 2)"
      ]
     },
     "execution_count": 8,
     "metadata": {},
     "output_type": "execute_result"
    }
   ],
   "source": [
    "df_house.shape"
   ]
  },
  {
   "cell_type": "code",
   "execution_count": 9,
   "metadata": {},
   "outputs": [
    {
     "data": {
      "text/html": [
       "<div>\n",
       "<style scoped>\n",
       "    .dataframe tbody tr th:only-of-type {\n",
       "        vertical-align: middle;\n",
       "    }\n",
       "\n",
       "    .dataframe tbody tr th {\n",
       "        vertical-align: top;\n",
       "    }\n",
       "\n",
       "    .dataframe thead th {\n",
       "        text-align: right;\n",
       "    }\n",
       "</style>\n",
       "<table border=\"1\" class=\"dataframe\">\n",
       "  <thead>\n",
       "    <tr style=\"text-align: right;\">\n",
       "      <th></th>\n",
       "      <th>address</th>\n",
       "      <th>latitude</th>\n",
       "      <th>longitude</th>\n",
       "      <th>describe</th>\n",
       "      <th>area_used</th>\n",
       "      <th>area</th>\n",
       "      <th>bedroom</th>\n",
       "      <th>wc</th>\n",
       "      <th>juridical</th>\n",
       "      <th>date_submitted</th>\n",
       "      <th>id</th>\n",
       "      <th>seller</th>\n",
       "      <th>seniority</th>\n",
       "      <th>phone</th>\n",
       "    </tr>\n",
       "  </thead>\n",
       "  <tbody>\n",
       "    <tr>\n",
       "      <th>0</th>\n",
       "      <td>Lê Quang Định, Phường 5, Quận Bình Thạnh, TPHCM</td>\n",
       "      <td>10.812072</td>\n",
       "      <td>106.687519</td>\n",
       "      <td>Mô tả: +DT: 4.05*12.5 nở hậu tài Lộc 7.5m; DTC...</td>\n",
       "      <td>109,5 m2</td>\n",
       "      <td>63 m2 (4,05x12)</td>\n",
       "      <td>4.0</td>\n",
       "      <td>4.0</td>\n",
       "      <td>Sổ hồng</td>\n",
       "      <td>24/04/2024</td>\n",
       "      <td>22521691</td>\n",
       "      <td>Châu Minh Tuấn</td>\n",
       "      <td>2 năm 5 tháng</td>\n",
       "      <td>908935028</td>\n",
       "    </tr>\n",
       "    <tr>\n",
       "      <th>1</th>\n",
       "      <td>Lê Quang Định, Phường 7, Quận Bình Thạnh, TPHCM</td>\n",
       "      <td>10.807009</td>\n",
       "      <td>106.691612</td>\n",
       "      <td>Mô tả:+DT: 3,2x9,5+ Kết cấu: 1 trệt, 1 lửng, 2...</td>\n",
       "      <td>126,4 m2</td>\n",
       "      <td>33 m2 (3,2x9,5)</td>\n",
       "      <td>5.0</td>\n",
       "      <td>6.0</td>\n",
       "      <td>Sổ hồng</td>\n",
       "      <td>24/04/2024</td>\n",
       "      <td>22524911</td>\n",
       "      <td>Châu Minh Tuấn</td>\n",
       "      <td>2 năm 5 tháng</td>\n",
       "      <td>908935028</td>\n",
       "    </tr>\n",
       "    <tr>\n",
       "      <th>2</th>\n",
       "      <td>Thống Nhất, Phường 11, Quận Gò Vấp, TPHCM</td>\n",
       "      <td>10.839189</td>\n",
       "      <td>106.661079</td>\n",
       "      <td>Mô tả:*DT: 5*9👉 Kết cấu: 5 tầng gồm trệt, lửng...</td>\n",
       "      <td>225 m2</td>\n",
       "      <td>45 m2 (5x9)</td>\n",
       "      <td>3.0</td>\n",
       "      <td>5.0</td>\n",
       "      <td>Sổ hồng</td>\n",
       "      <td>24/04/2024</td>\n",
       "      <td>22539926</td>\n",
       "      <td>Châu Minh Tuấn</td>\n",
       "      <td>2 năm 5 tháng</td>\n",
       "      <td>908935028</td>\n",
       "    </tr>\n",
       "    <tr>\n",
       "      <th>3</th>\n",
       "      <td>26 Đường số 66, Phường Thảo Điền, Quận 2 (TP. ...</td>\n",
       "      <td>10.812520</td>\n",
       "      <td>106.729592</td>\n",
       "      <td>Bán nhà mặt tiền đường Số 62 Thảo Điền, Quận 2...</td>\n",
       "      <td>120 m2</td>\n",
       "      <td>120 m2 (4x25)</td>\n",
       "      <td>8.0</td>\n",
       "      <td>9.0</td>\n",
       "      <td>Sổ hồng</td>\n",
       "      <td>24/04/2024</td>\n",
       "      <td>22539325</td>\n",
       "      <td>Cao Ngọc Nam</td>\n",
       "      <td>3 năm 3 tháng</td>\n",
       "      <td>902989755</td>\n",
       "    </tr>\n",
       "    <tr>\n",
       "      <th>4</th>\n",
       "      <td>Lý Thường Kiệt, Phường 14, Quận 10, TPHCM</td>\n",
       "      <td>10.772981</td>\n",
       "      <td>106.661602</td>\n",
       "      <td>Bán toà nhà văn phòng Gold Star Lý Thường Kiệt...</td>\n",
       "      <td>2850 m2</td>\n",
       "      <td>300 m2 (20x16)</td>\n",
       "      <td>20.0</td>\n",
       "      <td>20.0</td>\n",
       "      <td>Sổ hồng</td>\n",
       "      <td>24/04/2024</td>\n",
       "      <td>22492767</td>\n",
       "      <td>NGUYỄN DƯƠNG</td>\n",
       "      <td>5 năm 9 tháng</td>\n",
       "      <td>935665544</td>\n",
       "    </tr>\n",
       "  </tbody>\n",
       "</table>\n",
       "</div>"
      ],
      "text/plain": [
       "                                             address   latitude   longitude  \\\n",
       "0    Lê Quang Định, Phường 5, Quận Bình Thạnh, TPHCM  10.812072  106.687519   \n",
       "1    Lê Quang Định, Phường 7, Quận Bình Thạnh, TPHCM  10.807009  106.691612   \n",
       "2          Thống Nhất, Phường 11, Quận Gò Vấp, TPHCM  10.839189  106.661079   \n",
       "3  26 Đường số 66, Phường Thảo Điền, Quận 2 (TP. ...  10.812520  106.729592   \n",
       "4          Lý Thường Kiệt, Phường 14, Quận 10, TPHCM  10.772981  106.661602   \n",
       "\n",
       "                                            describe area_used  \\\n",
       "0  Mô tả: +DT: 4.05*12.5 nở hậu tài Lộc 7.5m; DTC...  109,5 m2   \n",
       "1  Mô tả:+DT: 3,2x9,5+ Kết cấu: 1 trệt, 1 lửng, 2...  126,4 m2   \n",
       "2  Mô tả:*DT: 5*9👉 Kết cấu: 5 tầng gồm trệt, lửng...    225 m2   \n",
       "3  Bán nhà mặt tiền đường Số 62 Thảo Điền, Quận 2...    120 m2   \n",
       "4  Bán toà nhà văn phòng Gold Star Lý Thường Kiệt...   2850 m2   \n",
       "\n",
       "              area  bedroom    wc juridical date_submitted        id  \\\n",
       "0  63 m2 (4,05x12)      4.0   4.0   Sổ hồng     24/04/2024  22521691   \n",
       "1  33 m2 (3,2x9,5)      5.0   6.0   Sổ hồng     24/04/2024  22524911   \n",
       "2      45 m2 (5x9)      3.0   5.0   Sổ hồng     24/04/2024  22539926   \n",
       "3    120 m2 (4x25)      8.0   9.0   Sổ hồng     24/04/2024  22539325   \n",
       "4   300 m2 (20x16)     20.0  20.0   Sổ hồng     24/04/2024  22492767   \n",
       "\n",
       "           seller      seniority      phone  \n",
       "0  Châu Minh Tuấn  2 năm 5 tháng  908935028  \n",
       "1  Châu Minh Tuấn  2 năm 5 tháng  908935028  \n",
       "2  Châu Minh Tuấn  2 năm 5 tháng  908935028  \n",
       "3    Cao Ngọc Nam  3 năm 3 tháng  902989755  \n",
       "4    NGUYỄN DƯƠNG  5 năm 9 tháng  935665544  "
      ]
     },
     "execution_count": 9,
     "metadata": {},
     "output_type": "execute_result"
    }
   ],
   "source": [
    "df_house_info.head()"
   ]
  },
  {
   "cell_type": "code",
   "execution_count": 10,
   "metadata": {},
   "outputs": [
    {
     "data": {
      "text/plain": [
       "(5853, 14)"
      ]
     },
     "execution_count": 10,
     "metadata": {},
     "output_type": "execute_result"
    }
   ],
   "source": [
    "df_house_info.shape"
   ]
  },
  {
   "cell_type": "code",
   "execution_count": 11,
   "metadata": {},
   "outputs": [],
   "source": [
    "def preprocess_houseinfo(df_house_info, df_house):\n",
    "    df_house_info.drop_duplicates(subset=['id'], inplace=True)\n",
    "    df_merge = df_house_info.merge(df_house,on='id')\n",
    "    return df_merge"
   ]
  },
  {
   "cell_type": "code",
   "execution_count": 12,
   "metadata": {},
   "outputs": [],
   "source": [
    "df_merge = preprocess_houseinfo(df_house_info, df_house)"
   ]
  },
  {
   "cell_type": "code",
   "execution_count": 13,
   "metadata": {},
   "outputs": [
    {
     "data": {
      "text/plain": [
       "address               0.000000\n",
       "latitude              1.838044\n",
       "longitude             1.838044\n",
       "describe              0.000000\n",
       "area_used            42.118953\n",
       "area                  0.000000\n",
       "bedroom               1.456563\n",
       "wc                    1.075082\n",
       "juridical             0.000000\n",
       "date_submitted        0.000000\n",
       "id                    0.000000\n",
       "seller                0.000000\n",
       "seniority             0.000000\n",
       "phone                 0.000000\n",
       "price(billionVND)     0.000000\n",
       "dtype: float64"
      ]
     },
     "execution_count": 13,
     "metadata": {},
     "output_type": "execute_result"
    }
   ],
   "source": [
    "missing_ratio = df_merge.isnull().sum()\n",
    "missing_ratio = (missing_ratio / df_merge.shape[0])*100\n",
    "missing_ratio"
   ]
  }
 ],
 "metadata": {
  "kernelspec": {
   "display_name": "Python 3",
   "language": "python",
   "name": "python3"
  },
  "language_info": {
   "codemirror_mode": {
    "name": "ipython",
    "version": 3
   },
   "file_extension": ".py",
   "mimetype": "text/x-python",
   "name": "python",
   "nbconvert_exporter": "python",
   "pygments_lexer": "ipython3",
   "version": "3.11.9"
  }
 },
 "nbformat": 4,
 "nbformat_minor": 2
}
